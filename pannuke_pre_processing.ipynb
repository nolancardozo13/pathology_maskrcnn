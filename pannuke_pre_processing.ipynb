{
 "cells": [
  {
   "cell_type": "code",
   "execution_count": 14,
   "metadata": {
    "id": "hgCO4VDMEO-2"
   },
   "outputs": [],
   "source": [
    "# import libraries for pre processing\n",
    "import os\n",
    "import sys\n",
    "import random\n",
    "import math\n",
    "import re\n",
    "import time\n",
    "import numpy as np\n",
    "import json\n",
    "import cv2\n",
    "import matplotlib\n",
    "import matplotlib.pyplot as plt\n",
    "import scipy\n",
    "import warnings\n",
    "import shutil\n",
    "import random\n",
    "from PIL import Image\n",
    "from pycococreatortools import pycococreatortools\n",
    "warnings.filterwarnings('ignore')"
   ]
  },
  {
   "cell_type": "code",
   "execution_count": 5,
   "metadata": {
    "id": "XsULkxn7CNzG"
   },
   "outputs": [],
   "source": [
    "def oragnize_data(image_path, mask_path, fold, test_split):\n",
    "    '''\n",
    "    Organizes the images and masks and splits it into train and test splits\n",
    "    '''\n",
    "    index = []\n",
    "    cell_names = [\"neoplastic\",\"inflammatory\",\"softtissue\",\"dead\",\"epithelial\"]\n",
    "    # Loading the data\n",
    "    images = np.load(image_path + \"images.npy\", mmap_mode='r+')\n",
    "    masks = np.load(mask_path + \"masks.npy\", mmap_mode='r+')\n",
    "\n",
    "    print('----------Loaded data----------')\n",
    "    \n",
    "    # Changing the datatype to reduce the size\n",
    "    images = images.astype(np.int16)\n",
    "    masks = masks.astype(np.int16)\n",
    "    \n",
    "    print('----------Reduced size----------')\n",
    "\n",
    "    # Selecting the list of indexes of images with no cells ()\n",
    "    if fold == 1 and images.shape[0]== 2656:\n",
    "        index = [584, 586, 604, 748, 750, 780, 811, 812, 813, 828, 830, 832, 833,\n",
    "                 996, 998, 1147, 1148, 1149, 1152, 1155, 1158, 1160, 1161, 1164,\n",
    "                 1166, 1432, 1433, 1512, 1578, 1614, 1615, 1616, 1617, 1618, 1619,\n",
    "                 1620, 1629, 1632, 1704, 1705, 1707, 1708, 1709, 1723, 1724, 1725,\n",
    "                 1748, 1749, 1750, 1751, 1752, 1753, 1859, 1864, 1870, 1880, 1923,\n",
    "                 1939, 1940, 1945, 1946, 1966, 1967, 1968, 1969, 1970, 1971, 1972,\n",
    "                 1973, 1974, 1975, 1976, 1977, 1978, 1979, 2007, 2009, 2019, 2020,\n",
    "                 2022, 2098, 2108, 2109, 2110, 2111, 2115, 2131, 2132, 2133, 2134,\n",
    "                 2135, 2137, 2163, 2164, 2165, 2174, 2176, 2202, 2263, 2264, 2265,\n",
    "                 2267, 2406, 2407, 2462, 2463, 2464, 2465, 2515, 2550, 2551, 2552,\n",
    "                 2626, 2636, 2639, 2640]   \n",
    "    if fold  == 2 and images.shape[0]== 2523:\n",
    "        index = [544, 679, 680, 724, 749, 750, 752, 753, 1028, 1029, 1241, 1248,\n",
    "                 1249, 1403, 1404, 1434, 1435, 1436, 1440, 1470, 1471, 1472, 1473,\n",
    "                 1474, 1475, 1476, 1477, 1478, 1524, 1526, 1538, 1539, 1540, 1541,\n",
    "                 1542, 1543, 1544, 1545, 1546, 1558, 1559, 1560, 1600, 1601, 1607,\n",
    "                 1651, 1653, 1657, 1660, 1661, 1662, 1665, 1684, 1685, 1686, 1687,\n",
    "                 1688, 1689, 1690, 1691, 1692, 1693, 1694, 1695, 1696, 1697, 1698,\n",
    "                 1699, 1700, 1701, 1702, 1738, 1741, 1742, 1743, 1746, 1749, 1845,\n",
    "                 1846, 1847, 1848, 1849, 1850, 1851, 1852, 1853, 1876, 1889, 1921,\n",
    "                 1928, 1929, 1930, 1931, 1932, 1933, 1936, 1998, 1999, 2000, 2003,\n",
    "                 2004, 2005, 2019, 2021, 2268, 2269, 2310, 2315, 2397, 2450, 2494,\n",
    "                 2508, 2511]\n",
    "    if fold == 3 and images.shape[0]== 2722:\n",
    "        index = [236, 546, 735, 754, 762, 778, 780, 784, 1016, 1076, 1078, 1079,\n",
    "                 1083, 1085, 1088, 1307, 1438, 1506, 1507, 1508, 1509, 1510, 1511,\n",
    "                 1518, 1519, 1523, 1566, 1567, 1568, 1569, 1570, 1571, 1572, 1611,\n",
    "                 1635, 1636, 1645, 1646, 1647, 1648, 1664, 1665, 1666, 1667, 1668,\n",
    "                 1669, 1670, 1743, 1757, 1777, 1779, 1780, 1797, 1803, 1804, 1805,\n",
    "                 1832, 1833, 1834, 1835, 1836, 1837, 1838, 1839, 1840, 1841, 1842,\n",
    "                 1843, 1844, 1845, 1846, 1847, 1848, 1849, 1850, 1851, 1852, 1853,\n",
    "                 1854, 1855, 1856, 1857, 1858, 1859, 1860, 1861, 1862, 1894, 1896,\n",
    "                 1897, 1987, 1988, 1989, 1990, 1991, 1992, 2023, 2025, 2026, 2063,\n",
    "                 2064, 2065, 2066, 2067, 2074, 2123, 2124, 2138, 2142, 2143, 2373,\n",
    "                 2375, 2694, 2695]\n",
    "\n",
    "    print('----------Removed images with no cells----------')\n",
    "\n",
    "    # Deleting indexes with images which contain no cells\n",
    "    images = np.delete(images, index, 0)\n",
    "    masks = np.delete(masks, index, 0)\n",
    "\n",
    "    indices = list(range(len(images)))\n",
    "    random.shuffle(indices)\n",
    "    train_indices = indices[:math.floor(test_split*len(indices))]\n",
    "\n",
    "    print('----------Splitting indices----------')\n",
    "\n",
    "    # Organising folders\n",
    "    if not os.path.isdir('Pannuke_dataset'):\n",
    "        os.mkdir('Pannuke_dataset/')    \n",
    "    \n",
    "    for i, img in enumerate(images):\n",
    "        if i in train_indices:\n",
    "            phase = \"train\"\n",
    "        else:\n",
    "            phase = \"val\"\n",
    "        im = Image.fromarray(img.astype(np.uint8))\n",
    "        if not os.path.isdir('Pannuke_dataset/'+phase+'/image_'+str(i)+'/images/'):\n",
    "            os.makedirs('Pannuke_dataset/'+phase+'/image_'+str(i)+'/images/')\n",
    "        im.save('Pannuke_dataset/'+phase+'/image_'+str(i)+'/images/image_'+str(i)+'.jpg')\n",
    "        for k in range(masks[i].shape[2]-1):\n",
    "            cell_mask = masks[i][:,:,k]\n",
    "            indiviudal_masks = []\n",
    "            unique_colors = np.unique(cell_mask)\n",
    "            if len(unique_colors) > 1:\n",
    "                for l in range(len(unique_colors)-1):\n",
    "                    ms = Image.fromarray(cell_mask == unique_colors[l+1])\n",
    "                    if not os.path.isdir('Pannuke_dataset/'+phase+'/image_'+str(i)+'/masks/'+cell_names[k]):\n",
    "                        os.makedirs('Pannuke_dataset/'+phase+'/image_'+str(i)+'/masks/'+cell_names[k])\n",
    "                    ms.save('Pannuke_dataset/'+phase+'/image_'+str(i)+'/masks/'+cell_names[k]+'/masks_'+str(l)+'.jpg')\n",
    "    print('----------Finished organising----------')\n"
   ]
  },
  {
   "cell_type": "code",
   "execution_count": 7,
   "metadata": {
    "colab": {
     "base_uri": "https://localhost:8080/"
    },
    "id": "_czJ6mAIqaYU",
    "outputId": "2d278553-34b2-4206-a523-137ca10d4781"
   },
   "outputs": [
    {
     "name": "stdout",
     "output_type": "stream",
     "text": [
      "----------Loaded data----------\n",
      "----------Reduced size----------\n",
      "----------Removed images with no cells----------\n",
      "----------Splitting indices----------\n",
      "----------Finished organising----------\n"
     ]
    }
   ],
   "source": [
    "image_path = './Fold 1/images/fold1/'\n",
    "mask_path = './Fold 1/masks/fold1/'\n",
    "fold = 1\n",
    "oragnize_data(image_path, mask_path, fold,0.8)"
   ]
  },
  {
   "cell_type": "code",
   "execution_count": 8,
   "metadata": {
    "id": "koF44746X-8z"
   },
   "outputs": [],
   "source": [
    "# loop to save images in one folder as desired by detextron 2\n",
    "def final_directory_structure(input_path,output_path):\n",
    "    print(input_path)\n",
    "    images = os.listdir(input_path)\n",
    "    if not os.path.isdir(output_path):\n",
    "        os.makedirs(output_path)\n",
    "    for img in images:\n",
    "        shutil.copyfile(input_path+img+'/images/'+img+'.jpg', output_path+img+'.jpg')"
   ]
  },
  {
   "cell_type": "code",
   "execution_count": 10,
   "metadata": {
    "id": "SjpPLVJtYCtd"
   },
   "outputs": [
    {
     "name": "stdout",
     "output_type": "stream",
     "text": [
      "./Pannuke_dataset/train/\n"
     ]
    }
   ],
   "source": [
    "train_input_path = \"./Pannuke_dataset/train/\"\n",
    "train_output_path = './final_pannuke_dataset/train/'\n",
    "final_directory_structure(train_input_path,train_output_path)"
   ]
  },
  {
   "cell_type": "code",
   "execution_count": 11,
   "metadata": {
    "colab": {
     "base_uri": "https://localhost:8080/"
    },
    "id": "uC8I6HeDYC3w",
    "outputId": "1795c7ec-e039-4a0e-b3d3-8f5d2cb0d05e"
   },
   "outputs": [
    {
     "name": "stdout",
     "output_type": "stream",
     "text": [
      "./Pannuke_dataset/val/\n"
     ]
    }
   ],
   "source": [
    "val_input_path = \"./Pannuke_dataset/val/\"\n",
    "val_output_path = './final_pannuke_dataset/val/'\n",
    "final_directory_structure(val_input_path,val_output_path)"
   ]
  },
  {
   "cell_type": "code",
   "execution_count": 12,
   "metadata": {
    "id": "jHBrPydVYFaf"
   },
   "outputs": [],
   "source": [
    "def pannuke_to_coco_format(image_path, output_path, categories = [\"neoplastic\",\"inflammatory\",\"softtissue\",\"dead\",\"epithelial\"] , dataset_name = \"pannuke\"):\n",
    "    '''\n",
    "    this function converts the pannuke dataset format to the coco format which makes it easier to apply detectron \n",
    "    2 algorithms on.\n",
    "    '''\n",
    "    images_name = os.listdir(image_path)\n",
    "    cocoformat = {\"licenses\":[], \"info\":[], \"images\":[], \"annotations\":[], \"categories\":[]}\n",
    "    for i in range(len(categories)):\n",
    "        cocoformat[\"categories\"].append({\"id\": int(i+1), \"name\": categories[i], \"supercategory\": dataset_name})\n",
    "    m_id = 1\n",
    "    for i, img in enumerate(images_name):\n",
    "        image = Image.open(image_path + img + \"/images/\" + img + \".jpg\")\n",
    "        image_info = pycococreatortools.create_image_info(\n",
    "                int(i+1), img + \".jpg\" , image.size)\n",
    "        cocoformat[\"images\"].append(image_info)\n",
    "        c_types = os.listdir(image_path + img + \"/masks/\")\n",
    "        for c in c_types:\n",
    "            masks = os.listdir(image_path + img + \"/masks/\"+c)\n",
    "            for msk in masks:\n",
    "                category_info = {'id': int(categories.index(c)+1), 'is_crowd': False}\n",
    "                m_image = np.asarray(Image.open(image_path + img + \"/masks/\"+c+\"/\"+ msk).convert('1')).astype(np.uint8)\n",
    "                annotation_info = pycococreatortools.create_annotation_info(\n",
    "                        m_id, int(i+1), category_info, m_image,\n",
    "                        image.size, tolerance=2)\n",
    "                m_id = m_id + 1\n",
    "                if annotation_info is not None:\n",
    "                    cocoformat[\"annotations\"].append(annotation_info) \n",
    "    with open(output_path, \"w\") as f:\n",
    "        json.dump(cocoformat, f)"
   ]
  },
  {
   "cell_type": "code",
   "execution_count": 15,
   "metadata": {
    "id": "4cN2FJh1oteq"
   },
   "outputs": [],
   "source": [
    "train_path = './Pannuke_dataset/train/'\n",
    "train_output_path = './final_pannuke_dataset/pannuke_train.json'\n",
    "pannuke_to_coco_format(image_path = train_path, output_path = train_output_path, categories = [\"neoplastic\",\"inflammatory\",\"softtissue\",\"dead\",\"epithelial\"] , dataset_name = \"pannuke_train\")"
   ]
  },
  {
   "cell_type": "code",
   "execution_count": 16,
   "metadata": {
    "id": "no4DrXPgQ0wg"
   },
   "outputs": [],
   "source": [
    "val_path = './Pannuke_dataset/val/'\n",
    "val_output_path = './final_pannuke_dataset/pannuke_val.json'\n",
    "pannuke_to_coco_format(image_path = val_path, output_path = val_output_path, categories = [\"neoplastic\",\"inflammatory\",\"softtissue\",\"dead\",\"epithelial\"] , dataset_name = \"pannuke_val\")"
   ]
  },
  {
   "cell_type": "code",
   "execution_count": null,
   "metadata": {},
   "outputs": [],
   "source": []
  }
 ],
 "metadata": {
  "colab": {
   "collapsed_sections": [],
   "name": "Pannuke_pre_processing.ipynb",
   "provenance": []
  },
  "kernelspec": {
   "display_name": "Python 3",
   "language": "python",
   "name": "python3"
  },
  "language_info": {
   "codemirror_mode": {
    "name": "ipython",
    "version": 3
   },
   "file_extension": ".py",
   "mimetype": "text/x-python",
   "name": "python",
   "nbconvert_exporter": "python",
   "pygments_lexer": "ipython3",
   "version": "3.8.8"
  }
 },
 "nbformat": 4,
 "nbformat_minor": 1
}
